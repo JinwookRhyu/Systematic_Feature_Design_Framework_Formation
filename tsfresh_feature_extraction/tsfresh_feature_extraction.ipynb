{
 "cells": [
  {
   "cell_type": "code",
   "execution_count": null,
   "id": "433b112b",
   "metadata": {
    "tags": []
   },
   "outputs": [],
   "source": [
    "%matplotlib inline\n",
    "import numpy as np\n",
    "import pandas as pd\n",
    "\n",
    "import matplotlib.pyplot as plt\n",
    "\n",
    "from sklearn.feature_selection import f_regression\n",
    "\n",
    "%pip install tsfresh==0.20.1\n",
    "%pip install scipy==1.12.0"
   ]
  },
  {
   "cell_type": "markdown",
   "id": "54a93491",
   "metadata": {},
   "source": [
    "# Load y from Cui et al.'s formation data"
   ]
  },
  {
   "cell_type": "code",
   "execution_count": null,
   "id": "f689a17d",
   "metadata": {
    "tags": []
   },
   "outputs": [],
   "source": [
    "filepath = f\"\"\"one_time_features_110323.csv\"\"\"\n",
    "csvFile = pd.read_csv(filepath)\n",
    "filepath = f\"\"\"protocol_params.xlsx\"\"\"\n",
    "df_protocol_params = pd.read_excel(filepath)"
   ]
  },
  {
   "cell_type": "code",
   "execution_count": null,
   "id": "0a626694",
   "metadata": {
    "tags": []
   },
   "outputs": [],
   "source": [
    "y = csvFile.regu_life"
   ]
  },
  {
   "cell_type": "code",
   "execution_count": null,
   "id": "9fcfdf8b",
   "metadata": {
    "tags": []
   },
   "outputs": [],
   "source": [
    "ind_y = np.array([x for x in range(np.size(csvFile,0))])\n",
    "ind_y = ind_y[~np.isnan(y)]\n",
    "seq_num = csvFile.seq_num[ind_y]\n",
    "y = y[ind_y]\n",
    "\n",
    "ind_y = ind_y[seq_num != 206] # error loading Nova_Formation-206.csv\n",
    "seq_num = np.array(seq_num[ind_y]) # error loading Nova_Formation-206.csv\n",
    "y = np.array(y[ind_y])\n",
    "log_y = np.log(y)"
   ]
  },
  {
   "cell_type": "code",
   "execution_count": null,
   "id": "380ff9e2",
   "metadata": {
    "tags": []
   },
   "outputs": [],
   "source": [
    "len(ind_y)"
   ]
  },
  {
   "cell_type": "code",
   "execution_count": null,
   "id": "351dbdda",
   "metadata": {
    "tags": []
   },
   "outputs": [],
   "source": [
    "import pandas as pd\n",
    "import os\n",
    "\n",
    "df_A_Q_V_all = pd.read_excel(os.path.dirname(os.getcwd()) + \"/data_formation/A_Q_V_all.xlsx\")\n",
    "df_A_t_V_all = pd.read_excel(os.path.dirname(os.getcwd()) + \"/data_formation/A_t_V_all.xlsx\")\n",
    "df_B_Q_V_all = pd.read_excel(os.path.dirname(os.getcwd()) + \"/data_formation/B_Q_V_all.xlsx\")\n",
    "df_B_V_t_all = pd.read_excel(os.path.dirname(os.getcwd()) + \"/data_formation/B_V_t_all.xlsx\")\n",
    "df_C_Q_V_all = pd.read_excel(os.path.dirname(os.getcwd()) + \"/data_formation/C_Q_V_all.xlsx\")\n",
    "df_C_V_t_all = pd.read_excel(os.path.dirname(os.getcwd()) + \"/data_formation/C_V_t_all.xlsx\")\n"
   ]
  },
  {
   "cell_type": "code",
   "execution_count": null,
   "id": "a9962e6d",
   "metadata": {},
   "outputs": [],
   "source": [
    "A_Q_V_all = df_A_Q_V_all.iloc[:, 1:-3].to_numpy()\n",
    "A_t_V_all = df_A_t_V_all.iloc[:, 1:-3].to_numpy()\n",
    "B_Q_V_all = df_B_Q_V_all.iloc[:, 1:-3].to_numpy()\n",
    "B_V_t_all = df_B_V_t_all.iloc[:, 1:-3].to_numpy()\n",
    "C_Q_V_all = df_C_Q_V_all.iloc[:, 1:-3].to_numpy()\n",
    "C_V_t_all = df_C_V_t_all.iloc[:, 1:-3].to_numpy()"
   ]
  },
  {
   "cell_type": "markdown",
   "id": "8da98955",
   "metadata": {},
   "source": [
    "# Should group formation protocols by protocol parameters"
   ]
  },
  {
   "cell_type": "code",
   "execution_count": null,
   "id": "97cd63e6",
   "metadata": {
    "tags": []
   },
   "outputs": [],
   "source": [
    "# CC1, CC2, CV, n are enough for group_labels.\n",
    "group_label = np.array(list(df_protocol_params.groupby(by = [\"CC1\", \"CC2\", \"CV\", \"n\", \"T\", \"t_OCV\"]).ngroup()))\n",
    "max(group_label)\n",
    "pd.Series(data=df_protocol_params.groupby(by = [\"CC1\", \"CC2\", \"CV\", \"n\", \"T\", \"t_OCV\"]).ngroup()).to_excel(\"group_label.xlsx\")"
   ]
  },
  {
   "cell_type": "code",
   "execution_count": null,
   "id": "b70d51a7",
   "metadata": {
    "tags": []
   },
   "outputs": [],
   "source": [
    "id = np.repeat([x+1 for x in range(len(ind_y))], 1000)#.astype(int)\n",
    "V_ind = np.tile(1.5 + (4.4-1.5)/999 * np.array([x for x in range(1000)]).astype(int), len(ind_y))\n",
    "\n",
    "A_Q_V_tsfresh = np.c_[id, V_ind, np.reshape(A_Q_V_all, (-1, 1))]\n",
    "A_t_V_tsfresh = np.c_[id, V_ind, np.reshape(A_t_V_all, (-1, 1))]\n",
    "\n",
    "A_Q_V_tsfresh_df = pd.DataFrame(A_Q_V_tsfresh, columns=['id', 'V', 'Q_V'])\n",
    "A_t_V_tsfresh_df = pd.DataFrame(A_t_V_tsfresh, columns=['id', 'V', 't_V'])\n",
    "\n",
    "id = np.repeat([x+1 for x in range(len(ind_y))], 1000)#.astype(int)\n",
    "V_ind = np.tile(4.4 - (4.4-3.0)/999 * np.array([x for x in range(1000)]).astype(int), len(ind_y))\n",
    "t_ind = np.tile(np.array([x for x in range(1000)]).astype(int), len(ind_y))\n",
    "B_Q_V_tsfresh = np.c_[id, V_ind, np.reshape(B_Q_V_all, (-1, 1))]\n",
    "B_V_t_tsfresh = np.c_[id, t_ind, np.reshape(B_V_t_all, (-1, 1))]\n",
    "\n",
    "B_Q_V_tsfresh_df = pd.DataFrame(B_Q_V_tsfresh, columns=['id', 'V', 'Q_V'])\n",
    "B_V_t_tsfresh_df = pd.DataFrame(B_V_t_tsfresh, columns=['id', 't', 'V_t'])\n",
    "\n",
    "id = np.repeat([x+1 for x in range(len(ind_y))], 1000)#.astype(int)\n",
    "V_ind = np.tile(4.4 - (4.4-3.0)/999 * np.array([x for x in range(1000)]).astype(int), len(ind_y))\n",
    "t_ind = np.tile(np.array([x for x in range(1000)]).astype(int), len(ind_y))\n",
    "C_Q_V_tsfresh = np.c_[id, V_ind, np.reshape(C_Q_V_all, (-1, 1))]\n",
    "C_V_t_tsfresh = np.c_[id, t_ind, np.reshape(C_V_t_all, (-1, 1))]\n",
    "\n",
    "C_Q_V_tsfresh_df = pd.DataFrame(C_Q_V_tsfresh, columns=['id', 'V', 'Q_V'])\n",
    "C_V_t_tsfresh_df = pd.DataFrame(C_V_t_tsfresh, columns=['id', 't', 'V_t'])\n"
   ]
  },
  {
   "cell_type": "markdown",
   "id": "5417a36a",
   "metadata": {},
   "source": [
    "# Generate folders if not exist"
   ]
  },
  {
   "cell_type": "code",
   "execution_count": null,
   "id": "850f6eb1",
   "metadata": {},
   "outputs": [],
   "source": [
    "import os\n",
    "if not os.path.exists(os.path.dirname(os.getcwd()) + \"/Features_tsfresh_autoML\"):\n",
    "    os.mkdir(os.path.dirname(os.getcwd()) + \"/Features_tsfresh_autoML\")\n",
    "if not os.path.exists(os.path.dirname(os.getcwd()) + \"/Features_tsfresh_autoML_labeled\"):\n",
    "    os.mkdir(os.path.dirname(os.getcwd()) + \"/Features_tsfresh_autoML_labeled\")\n",
    "if not os.path.exists(os.path.dirname(os.getcwd()) + \"/Features_tsfresh_autoML_fulllist\"):\n",
    "    os.mkdir(os.path.dirname(os.getcwd()) + \"/Features_tsfresh_autoML_fulllist\")"
   ]
  },
  {
   "cell_type": "markdown",
   "id": "117c0058",
   "metadata": {},
   "source": [
    "# Extract features from each f(V) and f(t) in region A (first charge: CC1-CC2) using tsfresh"
   ]
  },
  {
   "cell_type": "code",
   "execution_count": null,
   "id": "164bc9ab",
   "metadata": {
    "tags": []
   },
   "outputs": [],
   "source": [
    "from tsfresh import extract_features\n",
    "A_Q_V_extracted_features = extract_features(A_Q_V_tsfresh_df, column_id=\"id\", column_sort=\"V\")\n",
    "A_t_V_extracted_features = extract_features(A_t_V_tsfresh_df, column_id=\"id\", column_sort=\"V\")\n",
    "B_Q_V_extracted_features = extract_features(B_Q_V_tsfresh_df, column_id=\"id\", column_sort=\"V\")\n",
    "B_V_t_extracted_features = extract_features(B_V_t_tsfresh_df, column_id=\"id\", column_sort=\"t\")\n",
    "C_Q_V_extracted_features = extract_features(C_Q_V_tsfresh_df, column_id=\"id\", column_sort=\"V\")\n",
    "C_V_t_extracted_features = extract_features(C_V_t_tsfresh_df, column_id=\"id\", column_sort=\"t\")"
   ]
  },
  {
   "cell_type": "code",
   "execution_count": null,
   "id": "f760f486",
   "metadata": {
    "tags": []
   },
   "outputs": [],
   "source": [
    "A_Q_V_extracted_features.to_excel(os.path.dirname(os.getcwd()) + \"/Features_tsfresh_autoML_fulllist/A_Q_V_extracted_features.xlsx\")\n",
    "A_t_V_extracted_features.to_excel(os.path.dirname(os.getcwd()) + \"/Features_tsfresh_autoML_fulllist/A_t_V_extracted_features.xlsx\")\n",
    "B_Q_V_extracted_features.to_excel(os.path.dirname(os.getcwd()) + \"/Features_tsfresh_autoML_fulllist/B_Q_V_extracted_features.xlsx\")\n",
    "B_V_t_extracted_features.to_excel(os.path.dirname(os.getcwd()) + \"/Features_tsfresh_autoML_fulllist/B_V_t_extracted_features.xlsx\")\n",
    "C_Q_V_extracted_features.to_excel(os.path.dirname(os.getcwd()) + \"/Features_tsfresh_autoML_fulllist/C_Q_V_extracted_features.xlsx\")\n",
    "C_V_t_extracted_features.to_excel(os.path.dirname(os.getcwd()) + \"/Features_tsfresh_autoML_fulllist/C_V_t_extracted_features.xlsx\")"
   ]
  },
  {
   "cell_type": "markdown",
   "id": "390ec3d5",
   "metadata": {},
   "source": [
    "# Pre-screen features that are constant"
   ]
  },
  {
   "cell_type": "code",
   "execution_count": null,
   "id": "c52a1916",
   "metadata": {
    "tags": []
   },
   "outputs": [],
   "source": [
    "from tsfresh.utilities.dataframe_functions import impute\n",
    "impute(A_Q_V_extracted_features)\n",
    "impute(A_t_V_extracted_features)\n",
    "impute(B_Q_V_extracted_features)\n",
    "impute(B_V_t_extracted_features)\n",
    "impute(C_Q_V_extracted_features)\n",
    "impute(C_V_t_extracted_features)\n",
    "\n",
    "A_Q_V_index_notconstant = np.where(A_Q_V_extracted_features.max(axis=0) != A_Q_V_extracted_features.min(axis=0))[0]\n",
    "_, A_Q_V_p_values = f_regression(A_Q_V_extracted_features[A_Q_V_extracted_features.columns[A_Q_V_index_notconstant]], y.reshape(-1, 1))\n",
    "_, log_A_Q_V_p_values = f_regression(A_Q_V_extracted_features[A_Q_V_extracted_features.columns[A_Q_V_index_notconstant]], log_y.reshape(-1, 1))\n",
    "A_t_V_index_notconstant = np.where(A_t_V_extracted_features.max(axis=0) != A_t_V_extracted_features.min(axis=0))[0]\n",
    "_, A_t_V_p_values = f_regression(A_t_V_extracted_features[A_t_V_extracted_features.columns[A_t_V_index_notconstant]], y.reshape(-1, 1))\n",
    "_, log_A_t_V_p_values = f_regression(A_t_V_extracted_features[A_t_V_extracted_features.columns[A_t_V_index_notconstant]], log_y.reshape(-1, 1))\n",
    "B_Q_V_index_notconstant = np.where(B_Q_V_extracted_features.max(axis=0) != B_Q_V_extracted_features.min(axis=0))[0]\n",
    "_, B_Q_V_p_values = f_regression(B_Q_V_extracted_features[B_Q_V_extracted_features.columns[B_Q_V_index_notconstant]], y.reshape(-1, 1))\n",
    "_, log_B_Q_V_p_values = f_regression(B_Q_V_extracted_features[B_Q_V_extracted_features.columns[B_Q_V_index_notconstant]], log_y.reshape(-1, 1))\n",
    "B_V_t_index_notconstant = np.where(B_V_t_extracted_features.max(axis=0) != B_V_t_extracted_features.min(axis=0))[0]\n",
    "_, B_V_t_p_values = f_regression(B_V_t_extracted_features[B_V_t_extracted_features.columns[B_V_t_index_notconstant]], y.reshape(-1, 1))\n",
    "_, log_B_V_t_p_values = f_regression(B_V_t_extracted_features[B_V_t_extracted_features.columns[B_V_t_index_notconstant]], log_y.reshape(-1, 1))\n",
    "C_Q_V_index_notconstant = np.where(C_Q_V_extracted_features.max(axis=0) != C_Q_V_extracted_features.min(axis=0))[0]\n",
    "_, C_Q_V_p_values = f_regression(C_Q_V_extracted_features[C_Q_V_extracted_features.columns[C_Q_V_index_notconstant]], y.reshape(-1, 1))\n",
    "_, log_C_Q_V_p_values = f_regression(C_Q_V_extracted_features[C_Q_V_extracted_features.columns[C_Q_V_index_notconstant]], log_y.reshape(-1, 1))\n",
    "C_V_t_index_notconstant = np.where(C_V_t_extracted_features.max(axis=0) != C_V_t_extracted_features.min(axis=0))[0]\n",
    "_, C_V_t_p_values = f_regression(C_V_t_extracted_features[C_V_t_extracted_features.columns[C_V_t_index_notconstant]], y.reshape(-1, 1))\n",
    "_, log_C_V_t_p_values = f_regression(C_V_t_extracted_features[C_V_t_extracted_features.columns[C_V_t_index_notconstant]], log_y.reshape(-1, 1))\n"
   ]
  },
  {
   "cell_type": "code",
   "execution_count": null,
   "id": "cf8519d7",
   "metadata": {
    "tags": []
   },
   "outputs": [],
   "source": [
    "fig, axs = plt.subplots(figsize=(30,10), nrows=2, ncols=6)\n",
    "\n",
    "logbins = np.logspace(-8,0,17)\n",
    "\n",
    "axs[0,0].hist(A_Q_V_p_values, bins=logbins)\n",
    "axs[0,0].set_xscale('log')\n",
    "axs[0,0].minorticks_on()\n",
    "axs[0,0].grid(which='major', linestyle='-', linewidth='0.5')\n",
    "axs[0,0].grid(which='minor', linestyle=':', linewidth='0.5')\n",
    "axs[0,0].set_xlabel('p-values')\n",
    "axs[0,0].set_ylabel('#')\n",
    "axs[0,0].set_title('p values in Q^{A}(V)')\n",
    "\n",
    "axs[0,1].hist(A_t_V_p_values, bins=logbins)\n",
    "axs[0,1].set_xscale('log')\n",
    "axs[0,1].minorticks_on()\n",
    "axs[0,1].grid(which='major', linestyle='-', linewidth='0.5')\n",
    "axs[0,1].grid(which='minor', linestyle=':', linewidth='0.5')\n",
    "axs[0,1].set_xlabel('p-values')\n",
    "axs[0,1].set_ylabel('#')\n",
    "axs[0,1].set_title('p values in t^{A}(V)')\n",
    "\n",
    "axs[0,2].hist(B_Q_V_p_values, bins=logbins)\n",
    "axs[0,2].set_xscale('log')\n",
    "axs[0,2].minorticks_on()\n",
    "axs[0,2].grid(which='major', linestyle='-', linewidth='0.5')\n",
    "axs[0,2].grid(which='minor', linestyle=':', linewidth='0.5')\n",
    "axs[0,2].set_xlabel('p-values')\n",
    "axs[0,2].set_ylabel('#')\n",
    "axs[0,2].set_title('p values in Q^{B}(V)')\n",
    "\n",
    "axs[0,3].hist(B_V_t_p_values, bins=logbins)\n",
    "axs[0,3].set_xscale('log')\n",
    "axs[0,3].minorticks_on()\n",
    "axs[0,3].grid(which='major', linestyle='-', linewidth='0.5')\n",
    "axs[0,3].grid(which='minor', linestyle=':', linewidth='0.5')\n",
    "axs[0,3].set_xlabel('p-values')\n",
    "axs[0,3].set_ylabel('#')\n",
    "axs[0,3].set_title('p values in V^{B}(t)')\n",
    "\n",
    "axs[0,4].hist(C_Q_V_p_values, bins=logbins)\n",
    "axs[0,4].set_xscale('log')\n",
    "axs[0,4].minorticks_on()\n",
    "axs[0,4].grid(which='major', linestyle='-', linewidth='0.5')\n",
    "axs[0,4].grid(which='minor', linestyle=':', linewidth='0.5')\n",
    "axs[0,4].set_xlabel('p-values')\n",
    "axs[0,4].set_ylabel('#')\n",
    "axs[0,4].set_title('p values in Q^{C}(V)')\n",
    "\n",
    "axs[0,5].hist(C_V_t_p_values, bins=logbins)\n",
    "axs[0,5].set_xscale('log')\n",
    "axs[0,5].minorticks_on()\n",
    "axs[0,5].grid(which='major', linestyle='-', linewidth='0.5')\n",
    "axs[0,5].grid(which='minor', linestyle=':', linewidth='0.5')\n",
    "axs[0,5].set_xlabel('p-values')\n",
    "axs[0,5].set_ylabel('#')\n",
    "axs[0,5].set_title('p values in V^{C}(t)')\n",
    "\n",
    "axs[1,0].hist(log_A_Q_V_p_values, bins=logbins)\n",
    "axs[1,0].set_xscale('log')\n",
    "axs[1,0].minorticks_on()\n",
    "axs[1,0].grid(which='major', linestyle='-', linewidth='0.5')\n",
    "axs[1,0].grid(which='minor', linestyle=':', linewidth='0.5')\n",
    "axs[1,0].set_xlabel('p-values')\n",
    "axs[1,0].set_ylabel('#')\n",
    "axs[1,0].set_title('p values in Q^{A}(V) with log_y')\n",
    "\n",
    "axs[1,1].hist(log_A_t_V_p_values, bins=logbins)\n",
    "axs[1,1].set_xscale('log')\n",
    "axs[1,1].minorticks_on()\n",
    "axs[1,1].grid(which='major', linestyle='-', linewidth='0.5')\n",
    "axs[1,1].grid(which='minor', linestyle=':', linewidth='0.5')\n",
    "axs[1,1].set_xlabel('p-values')\n",
    "axs[1,1].set_ylabel('#')\n",
    "axs[1,1].set_title('p values in t^{A}(V) with log_y')\n",
    "\n",
    "axs[1,2].hist(log_B_Q_V_p_values, bins=logbins)\n",
    "axs[1,2].set_xscale('log')\n",
    "axs[1,2].minorticks_on()\n",
    "axs[1,2].grid(which='major', linestyle='-', linewidth='0.5')\n",
    "axs[1,2].grid(which='minor', linestyle=':', linewidth='0.5')\n",
    "axs[1,2].set_xlabel('p-values')\n",
    "axs[1,2].set_ylabel('#')\n",
    "axs[1,2].set_title('p values in Q^{B}(V) with log_y')\n",
    "\n",
    "axs[1,3].hist(log_B_V_t_p_values, bins=logbins)\n",
    "axs[1,3].set_xscale('log')\n",
    "axs[1,3].minorticks_on()\n",
    "axs[1,3].grid(which='major', linestyle='-', linewidth='0.5')\n",
    "axs[1,3].grid(which='minor', linestyle=':', linewidth='0.5')\n",
    "axs[1,3].set_xlabel('p-values')\n",
    "axs[1,3].set_ylabel('#')\n",
    "axs[1,3].set_title('p values in V^{B}(t) with log_y')\n",
    "\n",
    "axs[1,4].hist(log_C_Q_V_p_values, bins=logbins)\n",
    "axs[1,4].set_xscale('log')\n",
    "axs[1,4].minorticks_on()\n",
    "axs[1,4].grid(which='major', linestyle='-', linewidth='0.5')\n",
    "axs[1,4].grid(which='minor', linestyle=':', linewidth='0.5')\n",
    "axs[1,4].set_xlabel('p-values')\n",
    "axs[1,4].set_ylabel('#')\n",
    "axs[1,4].set_title('p values in Q^{C}(V) with log_y')\n",
    "\n",
    "axs[1,5].hist(log_C_V_t_p_values, bins=logbins)\n",
    "axs[1,5].set_xscale('log')\n",
    "axs[1,5].minorticks_on()\n",
    "axs[1,5].grid(which='major', linestyle='-', linewidth='0.5')\n",
    "axs[1,5].grid(which='minor', linestyle=':', linewidth='0.5')\n",
    "axs[1,5].set_xlabel('p-values')\n",
    "axs[1,5].set_ylabel('#')\n",
    "axs[1,5].set_title('p values in V^{C}(t) with log_y')"
   ]
  },
  {
   "cell_type": "markdown",
   "id": "4354ccf7",
   "metadata": {},
   "source": [
    "# Filter features by using univariate test followed by tsfresh.select_features"
   ]
  },
  {
   "cell_type": "code",
   "execution_count": null,
   "id": "a5467445",
   "metadata": {
    "tags": []
   },
   "outputs": [],
   "source": [
    "from tsfresh import select_features\n",
    "from tsfresh.utilities.dataframe_functions import impute\n",
    "\n",
    "alpha_list_log = np.linspace(-8,0,17)\n",
    "\n",
    "for alpha in alpha_list_log:\n",
    "    \n",
    "    A_Q_V_features_univariate = A_Q_V_extracted_features[A_Q_V_extracted_features.columns[A_Q_V_index_notconstant[A_Q_V_p_values < 10 ** alpha]]]\n",
    "    A_Q_V_features_univariate.to_excel(os.path.dirname(os.getcwd()) + \"/Features_tsfresh_autoML_labeled/A_Q_V_features_univariate_\" + str(abs(alpha)) + \".xlsx\")\n",
    "    A_Q_V_features_univariate_SPA = A_Q_V_features_univariate\n",
    "    A_Q_V_features_univariate_SPA['y'] = y\n",
    "    A_Q_V_features_univariate_SPA.to_excel(os.path.dirname(os.getcwd()) + \"/Features_tsfresh_autoML/A_Q_V_features_univariate_\" + str(abs(alpha)) + \".xlsx\", header=False, index=False)\n",
    "    A_Q_V_features_univariate_tsfresh = select_features(A_Q_V_features_univariate, y)\n",
    "    A_Q_V_features_univariate_tsfresh.to_excel(os.path.dirname(os.getcwd()) + \"/Features_tsfresh_autoML_labeled/A_Q_V_features_univariate_tsfresh_\" + str(abs(alpha)) + \".xlsx\")\n",
    "    A_Q_V_features_univariate_tsfresh_SPA = A_Q_V_features_univariate_tsfresh\n",
    "    A_Q_V_features_univariate_tsfresh_SPA['y'] = y\n",
    "    A_Q_V_features_univariate_tsfresh_SPA.to_excel(os.path.dirname(os.getcwd()) + \"/Features_tsfresh_autoML/A_Q_V_features_univariate_tsfresh_\" + str(abs(alpha)) + \".xlsx\", header=False, index=False)\n",
    "    \n",
    "    A_t_V_features_univariate = A_t_V_extracted_features[A_t_V_extracted_features.columns[A_t_V_index_notconstant[A_t_V_p_values < 10 ** alpha]]]\n",
    "    A_t_V_features_univariate.to_excel(os.path.dirname(os.getcwd()) + \"/Features_tsfresh_autoML_labeled/A_t_V_features_univariate_\" + str(abs(alpha)) + \".xlsx\")\n",
    "    A_t_V_features_univariate_SPA = A_t_V_features_univariate\n",
    "    A_t_V_features_univariate_SPA['y'] = y\n",
    "    A_t_V_features_univariate_SPA.to_excel(os.path.dirname(os.getcwd()) + \"/Features_tsfresh_autoML/A_t_V_features_univariate_\" + str(abs(alpha)) + \".xlsx\", header=False, index=False)\n",
    "    A_t_V_features_univariate_tsfresh = select_features(A_t_V_features_univariate, y)\n",
    "    A_t_V_features_univariate_tsfresh.to_excel(os.path.dirname(os.getcwd()) + \"/Features_tsfresh_autoML_labeled/A_t_V_features_univariate_tsfresh_\" + str(abs(alpha)) + \".xlsx\")\n",
    "    A_t_V_features_univariate_tsfresh_SPA = A_t_V_features_univariate_tsfresh\n",
    "    A_t_V_features_univariate_tsfresh_SPA['y'] = y\n",
    "    A_t_V_features_univariate_tsfresh_SPA.to_excel(os.path.dirname(os.getcwd()) + \"/Features_tsfresh_autoML/A_t_V_features_univariate_tsfresh_\" + str(abs(alpha)) + \".xlsx\", header=False, index=False)\n",
    "\n",
    "    B_Q_V_features_univariate = B_Q_V_extracted_features[B_Q_V_extracted_features.columns[B_Q_V_index_notconstant[B_Q_V_p_values < 10 ** alpha]]]\n",
    "    B_Q_V_features_univariate.to_excel(os.path.dirname(os.getcwd()) + \"/Features_tsfresh_autoML_labeled/B_Q_V_features_univariate_\" + str(abs(alpha)) + \".xlsx\")\n",
    "    B_Q_V_features_univariate_SPA = B_Q_V_features_univariate\n",
    "    B_Q_V_features_univariate_SPA['y'] = y\n",
    "    B_Q_V_features_univariate_SPA.to_excel(os.path.dirname(os.getcwd()) + \"/Features_tsfresh_autoML/B_Q_V_features_univariate_\" + str(abs(alpha)) + \".xlsx\", header=False, index=False)\n",
    "    B_Q_V_features_univariate_tsfresh = select_features(B_Q_V_features_univariate, y)\n",
    "    B_Q_V_features_univariate_tsfresh.to_excel(os.path.dirname(os.getcwd()) + \"/Features_tsfresh_autoML_labeled/B_Q_V_features_univariate_tsfresh_\" + str(abs(alpha)) + \".xlsx\")\n",
    "    B_Q_V_features_univariate_tsfresh_SPA = B_Q_V_features_univariate_tsfresh\n",
    "    B_Q_V_features_univariate_tsfresh_SPA['y'] = y\n",
    "    B_Q_V_features_univariate_tsfresh_SPA.to_excel(os.path.dirname(os.getcwd()) + \"/Features_tsfresh_autoML/B_Q_V_features_univariate_tsfresh_\" + str(abs(alpha)) + \".xlsx\", header=False, index=False)\n",
    "    \n",
    "    B_V_t_features_univariate = B_V_t_extracted_features[B_V_t_extracted_features.columns[B_V_t_index_notconstant[B_V_t_p_values < 10 ** alpha]]]\n",
    "    B_V_t_features_univariate.to_excel(os.path.dirname(os.getcwd()) + \"/Features_tsfresh_autoML_labeled/B_V_t_features_univariate_\" + str(abs(alpha)) + \".xlsx\")\n",
    "    B_V_t_features_univariate_SPA = B_V_t_features_univariate\n",
    "    B_V_t_features_univariate_SPA['y'] = y\n",
    "    B_V_t_features_univariate_SPA.to_excel(os.path.dirname(os.getcwd()) + \"/Features_tsfresh_autoML/B_V_t_features_univariate_\" + str(abs(alpha)) + \".xlsx\", header=False, index=False)\n",
    "    B_V_t_features_univariate_tsfresh = select_features(B_V_t_features_univariate, y)\n",
    "    B_V_t_features_univariate_tsfresh.to_excel(os.path.dirname(os.getcwd()) + \"/Features_tsfresh_autoML_labeled/B_V_t_features_univariate_tsfresh_\" + str(abs(alpha)) + \".xlsx\")\n",
    "    B_V_t_features_univariate_tsfresh_SPA = B_V_t_features_univariate_tsfresh\n",
    "    B_V_t_features_univariate_tsfresh_SPA['y'] = y\n",
    "    B_V_t_features_univariate_tsfresh_SPA.to_excel(os.path.dirname(os.getcwd()) + \"/Features_tsfresh_autoML/B_V_t_features_univariate_tsfresh_\" + str(abs(alpha)) + \".xlsx\", header=False, index=False)\n",
    "\n",
    "    C_Q_V_features_univariate = C_Q_V_extracted_features[C_Q_V_extracted_features.columns[C_Q_V_index_notconstant[C_Q_V_p_values < 10 ** alpha]]]\n",
    "    C_Q_V_features_univariate.to_excel(os.path.dirname(os.getcwd()) + \"/Features_tsfresh_autoML_labeled/C_Q_V_features_univariate_\" + str(abs(alpha)) + \".xlsx\")\n",
    "    C_Q_V_features_univariate_SPA = C_Q_V_features_univariate\n",
    "    C_Q_V_features_univariate_SPA['y'] = y\n",
    "    C_Q_V_features_univariate_SPA.to_excel(os.path.dirname(os.getcwd()) + \"/Features_tsfresh_autoML/C_Q_V_features_univariate_\" + str(abs(alpha)) + \".xlsx\", header=False, index=False)\n",
    "    C_Q_V_features_univariate_tsfresh = select_features(C_Q_V_features_univariate, y)\n",
    "    C_Q_V_features_univariate_tsfresh.to_excel(os.path.dirname(os.getcwd()) + \"/Features_tsfresh_autoML_labeled/C_Q_V_features_univariate_tsfresh_\" + str(abs(alpha)) + \".xlsx\")\n",
    "    C_Q_V_features_univariate_tsfresh_SPA = C_Q_V_features_univariate_tsfresh\n",
    "    C_Q_V_features_univariate_tsfresh_SPA['y'] = y\n",
    "    C_Q_V_features_univariate_tsfresh_SPA.to_excel(os.path.dirname(os.getcwd()) + \"/Features_tsfresh_autoML/C_Q_V_features_univariate_tsfresh_\" + str(abs(alpha)) + \".xlsx\", header=False, index=False)\n",
    "    \n",
    "    C_V_t_features_univariate = C_V_t_extracted_features[C_V_t_extracted_features.columns[C_V_t_index_notconstant[C_V_t_p_values < 10 ** alpha]]]\n",
    "    C_V_t_features_univariate.to_excel(os.path.dirname(os.getcwd()) + \"/Features_tsfresh_autoML_labeled/C_V_t_features_univariate_\" + str(abs(alpha)) + \".xlsx\")\n",
    "    C_V_t_features_univariate_SPA = C_V_t_features_univariate\n",
    "    C_V_t_features_univariate_SPA['y'] = y\n",
    "    C_V_t_features_univariate_SPA.to_excel(os.path.dirname(os.getcwd()) + \"/Features_tsfresh_autoML/C_V_t_features_univariate_\" + str(abs(alpha)) + \".xlsx\", header=False, index=False)\n",
    "    C_V_t_features_univariate_tsfresh = select_features(C_V_t_features_univariate, y)\n",
    "    C_V_t_features_univariate_tsfresh.to_excel(os.path.dirname(os.getcwd()) + \"/Features_tsfresh_autoML_labeled/C_V_t_features_univariate_tsfresh_\" + str(abs(alpha)) + \".xlsx\")\n",
    "    C_V_t_features_univariate_tsfresh_SPA = C_V_t_features_univariate_tsfresh\n",
    "    C_V_t_features_univariate_tsfresh_SPA['y'] = y\n",
    "    C_V_t_features_univariate_tsfresh_SPA.to_excel(os.path.dirname(os.getcwd()) + \"/Features_tsfresh_autoML/C_V_t_features_univariate_tsfresh_\" + str(abs(alpha)) + \".xlsx\", header=False, index=False)\n",
    "\n",
    "    log_A_Q_V_features_univariate = A_Q_V_extracted_features[A_Q_V_extracted_features.columns[A_Q_V_index_notconstant[log_A_Q_V_p_values < 10 ** alpha]]]\n",
    "    log_A_Q_V_features_univariate.to_excel(os.path.dirname(os.getcwd()) + \"/Features_tsfresh_autoML_labeled/log_A_Q_V_features_univariate_\" + str(abs(alpha)) + \".xlsx\")\n",
    "    log_A_Q_V_features_univariate_SPA = log_A_Q_V_features_univariate\n",
    "    log_A_Q_V_features_univariate_SPA['y'] = log_y\n",
    "    log_A_Q_V_features_univariate_SPA.to_excel(os.path.dirname(os.getcwd()) + \"/Features_tsfresh_autoML/log_A_Q_V_features_univariate_\" + str(abs(alpha)) + \".xlsx\", header=False, index=False)\n",
    "    log_A_Q_V_features_univariate_tsfresh = select_features(log_A_Q_V_features_univariate, log_y)\n",
    "    log_A_Q_V_features_univariate_tsfresh.to_excel(os.path.dirname(os.getcwd()) + \"/Features_tsfresh_autoML_labeled/log_A_Q_V_features_univariate_tsfresh_\" + str(abs(alpha)) + \".xlsx\")\n",
    "    log_A_Q_V_features_univariate_tsfresh_SPA = log_A_Q_V_features_univariate_tsfresh\n",
    "    log_A_Q_V_features_univariate_tsfresh_SPA['y'] = log_y\n",
    "    log_A_Q_V_features_univariate_tsfresh_SPA.to_excel(os.path.dirname(os.getcwd()) + \"/Features_tsfresh_autoML/log_A_Q_V_features_univariate_tsfresh_\" + str(abs(alpha)) + \".xlsx\", header=False, index=False)\n",
    "    \n",
    "    log_A_t_V_features_univariate = A_t_V_extracted_features[A_t_V_extracted_features.columns[A_t_V_index_notconstant[log_A_t_V_p_values < 10 ** alpha]]]\n",
    "    log_A_t_V_features_univariate.to_excel(os.path.dirname(os.getcwd()) + \"/Features_tsfresh_autoML_labeled/log_A_t_V_features_univariate_\" + str(abs(alpha)) + \".xlsx\")\n",
    "    log_A_t_V_features_univariate_SPA = log_A_t_V_features_univariate\n",
    "    log_A_t_V_features_univariate_SPA['y'] = log_y\n",
    "    log_A_t_V_features_univariate_SPA.to_excel(os.path.dirname(os.getcwd()) + \"/Features_tsfresh_autoML/log_A_t_V_features_univariate_\" + str(abs(alpha)) + \".xlsx\", header=False, index=False)\n",
    "    log_A_t_V_features_univariate_tsfresh = select_features(log_A_t_V_features_univariate, log_y)\n",
    "    log_A_t_V_features_univariate_tsfresh.to_excel(os.path.dirname(os.getcwd()) + \"/Features_tsfresh_autoML_labeled/log_A_t_V_features_univariate_tsfresh_\" + str(abs(alpha)) + \".xlsx\")\n",
    "    log_A_t_V_features_univariate_tsfresh_SPA = log_A_t_V_features_univariate_tsfresh\n",
    "    log_A_t_V_features_univariate_tsfresh_SPA['y'] = log_y\n",
    "    log_A_t_V_features_univariate_tsfresh_SPA.to_excel(os.path.dirname(os.getcwd()) + \"/Features_tsfresh_autoML/log_A_t_V_features_univariate_tsfresh_\" + str(abs(alpha)) + \".xlsx\", header=False, index=False)\n",
    "\n",
    "    log_B_Q_V_features_univariate = B_Q_V_extracted_features[B_Q_V_extracted_features.columns[B_Q_V_index_notconstant[log_B_Q_V_p_values < 10 ** alpha]]]\n",
    "    log_B_Q_V_features_univariate.to_excel(os.path.dirname(os.getcwd()) + \"/Features_tsfresh_autoML_labeled/log_B_Q_V_features_univariate_\" + str(abs(alpha)) + \".xlsx\")\n",
    "    log_B_Q_V_features_univariate_SPA = log_B_Q_V_features_univariate\n",
    "    log_B_Q_V_features_univariate_SPA['y'] = log_y\n",
    "    log_B_Q_V_features_univariate_SPA.to_excel(os.path.dirname(os.getcwd()) + \"/Features_tsfresh_autoML/log_B_Q_V_features_univariate_\" + str(abs(alpha)) + \".xlsx\", header=False, index=False)\n",
    "    log_B_Q_V_features_univariate_tsfresh = select_features(log_B_Q_V_features_univariate, log_y)\n",
    "    log_B_Q_V_features_univariate_tsfresh.to_excel(os.path.dirname(os.getcwd()) + \"/Features_tsfresh_autoML_labeled/log_B_Q_V_features_univariate_tsfresh_\" + str(abs(alpha)) + \".xlsx\")\n",
    "    log_B_Q_V_features_univariate_tsfresh_SPA = log_B_Q_V_features_univariate_tsfresh\n",
    "    log_B_Q_V_features_univariate_tsfresh_SPA['y'] = log_y\n",
    "    log_B_Q_V_features_univariate_tsfresh_SPA.to_excel(os.path.dirname(os.getcwd()) + \"/Features_tsfresh_autoML/log_B_Q_V_features_univariate_tsfresh_\" + str(abs(alpha)) + \".xlsx\", header=False, index=False)\n",
    "    \n",
    "    log_B_V_t_features_univariate = B_V_t_extracted_features[B_V_t_extracted_features.columns[B_V_t_index_notconstant[log_B_V_t_p_values < 10 ** alpha]]]\n",
    "    log_B_V_t_features_univariate.to_excel(os.path.dirname(os.getcwd()) + \"/Features_tsfresh_autoML_labeled/log_B_V_t_features_univariate_\" + str(abs(alpha)) + \".xlsx\")\n",
    "    log_B_V_t_features_univariate_SPA = log_B_V_t_features_univariate\n",
    "    log_B_V_t_features_univariate_SPA['y'] = log_y\n",
    "    log_B_V_t_features_univariate_SPA.to_excel(os.path.dirname(os.getcwd()) + \"/Features_tsfresh_autoML/log_B_V_t_features_univariate_\" + str(abs(alpha)) + \".xlsx\", header=False, index=False)\n",
    "    log_B_V_t_features_univariate_tsfresh = select_features(log_B_V_t_features_univariate, log_y)\n",
    "    log_B_V_t_features_univariate_tsfresh.to_excel(os.path.dirname(os.getcwd()) + \"/Features_tsfresh_autoML_labeled/log_B_V_t_features_univariate_tsfresh_\" + str(abs(alpha)) + \".xlsx\")\n",
    "    log_B_V_t_features_univariate_tsfresh_SPA = log_B_V_t_features_univariate_tsfresh\n",
    "    log_B_V_t_features_univariate_tsfresh_SPA['y'] = log_y\n",
    "    log_B_V_t_features_univariate_tsfresh_SPA.to_excel(os.path.dirname(os.getcwd()) + \"/Features_tsfresh_autoML/log_B_V_t_features_univariate_tsfresh_\" + str(abs(alpha)) + \".xlsx\", header=False, index=False)\n",
    "\n",
    "    log_C_Q_V_features_univariate = C_Q_V_extracted_features[C_Q_V_extracted_features.columns[C_Q_V_index_notconstant[log_C_Q_V_p_values < 10 ** alpha]]]\n",
    "    log_C_Q_V_features_univariate.to_excel(os.path.dirname(os.getcwd()) + \"/Features_tsfresh_autoML_labeled/log_C_Q_V_features_univariate_\" + str(abs(alpha)) + \".xlsx\")\n",
    "    log_C_Q_V_features_univariate_SPA = log_C_Q_V_features_univariate\n",
    "    log_C_Q_V_features_univariate_SPA['y'] = log_y\n",
    "    log_C_Q_V_features_univariate_SPA.to_excel(os.path.dirname(os.getcwd()) + \"/Features_tsfresh_autoML/log_C_Q_V_features_univariate_\" + str(abs(alpha)) + \".xlsx\", header=False, index=False)\n",
    "    log_C_Q_V_features_univariate_tsfresh = select_features(log_C_Q_V_features_univariate, log_y)\n",
    "    log_C_Q_V_features_univariate_tsfresh.to_excel(os.path.dirname(os.getcwd()) + \"/Features_tsfresh_autoML_labeled/log_C_Q_V_features_univariate_tsfresh_\" + str(abs(alpha)) + \".xlsx\")\n",
    "    log_C_Q_V_features_univariate_tsfresh_SPA = log_C_Q_V_features_univariate_tsfresh\n",
    "    log_C_Q_V_features_univariate_tsfresh_SPA['y'] = log_y\n",
    "    log_C_Q_V_features_univariate_tsfresh_SPA.to_excel(os.path.dirname(os.getcwd()) + \"/Features_tsfresh_autoML/log_C_Q_V_features_univariate_tsfresh_\" + str(abs(alpha)) + \".xlsx\", header=False, index=False)\n",
    "    \n",
    "    log_C_V_t_features_univariate = C_V_t_extracted_features[C_V_t_extracted_features.columns[C_V_t_index_notconstant[log_C_V_t_p_values < 10 ** alpha]]]\n",
    "    log_C_V_t_features_univariate.to_excel(os.path.dirname(os.getcwd()) + \"/Features_tsfresh_autoML_labeled/log_C_V_t_features_univariate_\" + str(abs(alpha)) + \".xlsx\")\n",
    "    log_C_V_t_features_univariate_SPA = log_C_V_t_features_univariate\n",
    "    log_C_V_t_features_univariate_SPA['y'] = log_y\n",
    "    log_C_V_t_features_univariate_SPA.to_excel(os.path.dirname(os.getcwd()) + \"/Features_tsfresh_autoML/log_C_V_t_features_univariate_\" + str(abs(alpha)) + \".xlsx\", header=False, index=False)\n",
    "    log_C_V_t_features_univariate_tsfresh = select_features(log_C_V_t_features_univariate, log_y)\n",
    "    log_C_V_t_features_univariate_tsfresh.to_excel(os.path.dirname(os.getcwd()) + \"/Features_tsfresh_autoML_labeled/log_C_V_t_features_univariate_tsfresh_\" + str(abs(alpha)) + \".xlsx\")\n",
    "    log_C_V_t_features_univariate_tsfresh_SPA = log_C_V_t_features_univariate_tsfresh\n",
    "    log_C_V_t_features_univariate_tsfresh_SPA['y'] = log_y\n",
    "    log_C_V_t_features_univariate_tsfresh_SPA.to_excel(os.path.dirname(os.getcwd()) + \"/Features_tsfresh_autoML/log_C_V_t_features_univariate_tsfresh_\" + str(abs(alpha)) + \".xlsx\", header=False, index=False)\n",
    "    "
   ]
  },
  {
   "cell_type": "code",
   "execution_count": null,
   "id": "51305ada",
   "metadata": {},
   "outputs": [],
   "source": []
  }
 ],
 "metadata": {
  "kernelspec": {
   "display_name": "HDRegAnalytics",
   "language": "python",
   "name": "python3"
  },
  "language_info": {
   "codemirror_mode": {
    "name": "ipython",
    "version": 3
   },
   "file_extension": ".py",
   "mimetype": "text/x-python",
   "name": "python",
   "nbconvert_exporter": "python",
   "pygments_lexer": "ipython3",
   "version": "3.10.0"
  }
 },
 "nbformat": 4,
 "nbformat_minor": 5
}
