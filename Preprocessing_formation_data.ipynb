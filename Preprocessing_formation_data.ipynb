{
 "cells": [
  {
   "cell_type": "code",
   "execution_count": 1,
   "id": "e09f6528",
   "metadata": {},
   "outputs": [],
   "source": [
    "%matplotlib inline\n",
    "\n",
    "from beep import structure\n",
    "import numpy as np\n",
    "import pandas as pd\n",
    "import matplotlib.pyplot as plt\n",
    "import os"
   ]
  },
  {
   "cell_type": "markdown",
   "id": "98bb9fab",
   "metadata": {},
   "source": [
    "# Load y from Xiao's formation data"
   ]
  },
  {
   "cell_type": "code",
   "execution_count": 2,
   "id": "35f6195d",
   "metadata": {},
   "outputs": [],
   "source": [
    "csvFile = pd.read_csv(os.getcwd() + \"/tsfresh_feature_extraction/one_time_features_110323.csv\")"
   ]
  },
  {
   "cell_type": "code",
   "execution_count": 3,
   "id": "686c1e60",
   "metadata": {},
   "outputs": [],
   "source": [
    "y = csvFile.regu_life"
   ]
  },
  {
   "cell_type": "code",
   "execution_count": 4,
   "id": "bc5244d9",
   "metadata": {},
   "outputs": [],
   "source": [
    "ind_y = np.array([x for x in range(np.size(csvFile,0))])\n",
    "ind_y = ind_y[~np.isnan(y)]\n",
    "seq_num = csvFile.seq_num[ind_y]\n",
    "y = y[ind_y]\n",
    "\n",
    "ind_y = ind_y[seq_num != 206] # error loading Nova_Formation-206.csv\n",
    "seq_num = np.array(seq_num[ind_y]) # error loading Nova_Formation-206.csv\n",
    "y = np.array(y[ind_y])"
   ]
  },
  {
   "cell_type": "code",
   "execution_count": 5,
   "id": "67ef693a",
   "metadata": {},
   "outputs": [
    {
     "data": {
      "text/plain": [
       "array([100, 101, 102, 103, 104, 105, 106, 107, 108, 109, 110, 112, 113,\n",
       "       114, 115, 116, 117, 118, 119, 120, 121, 122, 123, 124, 125, 126,\n",
       "       127, 128, 129, 130, 131, 134, 135, 136, 137, 138, 139, 140, 141,\n",
       "       142, 143, 144, 145, 146, 147, 148, 149, 150, 151, 152, 154, 155,\n",
       "       156, 157, 158, 159, 160, 161, 162, 163, 165, 166, 167, 168, 169,\n",
       "       170, 171, 172, 173, 174, 175, 176, 177, 178, 179, 180, 181, 182,\n",
       "       183, 184, 185, 186, 187, 188, 189, 190, 191, 192, 193, 194, 195,\n",
       "       196, 197, 198, 199, 200, 201, 202, 203, 204, 205, 207, 208, 209,\n",
       "       210, 211, 212, 213, 214, 215, 216, 217, 219, 220, 221, 222, 223,\n",
       "       224, 225, 226, 227, 228, 229, 230, 269, 270, 271, 272, 273, 274,\n",
       "       275, 276, 277, 278, 279, 280, 281, 282, 283, 284, 285, 286, 287,\n",
       "       288, 289, 290, 291, 292, 293, 294, 295, 296, 297, 299, 300, 301,\n",
       "       302, 303, 304, 305, 306, 307, 308, 309, 310, 311, 312, 313, 314,\n",
       "       315, 316, 317, 318, 319, 320, 321, 322, 323], dtype=int64)"
      ]
     },
     "execution_count": 5,
     "metadata": {},
     "output_type": "execute_result"
    }
   ],
   "source": [
    "seq_num"
   ]
  },
  {
   "cell_type": "code",
   "execution_count": 6,
   "id": "3525e007",
   "metadata": {},
   "outputs": [],
   "source": [
    "formation_protocol_params = pd.read_csv(os.getcwd() + \"/tsfresh_feature_extraction/Formation_2022_Parameter.csv\")"
   ]
  },
  {
   "cell_type": "markdown",
   "id": "e46733fc",
   "metadata": {},
   "source": [
    "# Extract data for steps A, B, and C"
   ]
  },
  {
   "cell_type": "code",
   "execution_count": null,
   "id": "d532c379",
   "metadata": {},
   "outputs": [],
   "source": [
    "A_Q_V_all = np.empty((len(ind_y), 1000))\n",
    "A_t_V_all = np.empty((len(ind_y), 1000))\n",
    "B_Q_V_all = np.empty((len(ind_y), 1000))\n",
    "B_V_t_all = np.empty((len(ind_y), 1000))\n",
    "C_Q_V_all = np.empty((len(ind_y), 1000))\n",
    "C_V_t_all = np.empty((len(ind_y), 1000))\n",
    "\n",
    "protocol_params = np.empty((len(ind_y), 6))\n",
    "\n",
    "for ind in range(len(ind_y)):\n",
    "    \n",
    "    filepath = os.getcwd() + \"\\\\data_03032025\\\\Formation\\\\Nova_Formation-\" + str(seq_num[ind]) + \".csv\"\n",
    "    df = structure.NovonixDatapath.from_file(filepath)\n",
    "    df_f = df.raw_data\n",
    "\n",
    "    if seq_num[ind] in formation_protocol_params.seq_num.array:\n",
    "        CC1 = formation_protocol_params[formation_protocol_params.seq_num==seq_num[ind]].formation_charge_current_1.array[0]\n",
    "        CC2 = formation_protocol_params[formation_protocol_params.seq_num==seq_num[ind]].formation_charge_current_2.array[0]\n",
    "        CV = formation_protocol_params[formation_protocol_params.seq_num==seq_num[ind]].formation_cutoff_voltage_1.array[0]\n",
    "        n = formation_protocol_params[formation_protocol_params.seq_num==seq_num[ind]].formation_verification_repeat.array[0]\n",
    "        T = formation_protocol_params[formation_protocol_params.seq_num==seq_num[ind]].formation_temperature.array[0]\n",
    "        t_OCV = formation_protocol_params[formation_protocol_params.seq_num==seq_num[ind]].ocv_time.array[0]\n",
    "    \n",
    "    protocol_params[ind, :] = [CC1, CC2, CV, n, T, t_OCV]\n",
    "\n",
    "    index_A = [(df_f.step_type_name[i] in ['cc_charge', 'cccv_charge', 'cv_hold_charge']) * (df_f.step_num[i] >= 3) * (df_f.voltage[i] >= 1.5) * (df_f.cycle_index[i] == 1) for i in range(df_f.shape[0])]\n",
    "    t0 = min(df_f.test_time[index_A])\n",
    "    \n",
    "    V = df_f.voltage[index_A]\n",
    "    Q = df_f.capacity[index_A]\n",
    "    I = df_f.current[index_A]\n",
    "    t = df_f.test_time[index_A]\n",
    "    V_new = np.linspace(1.5, 4.4, 1000)\n",
    "    A_Q_V = np.interp(V_new, V, Q)\n",
    "    A_t_V = np.interp(V_new, V, t) - t0\n",
    "\n",
    "    A_Q_V_all[ind, :] = A_Q_V\n",
    "    A_t_V_all[ind, :] = A_t_V\n",
    "    \n",
    "    \n",
    "    fig, axs = plt.subplots(figsize=(30,5), nrows=1, ncols=6)\n",
    "\n",
    "    axs[0].plot(V_new, A_Q_V)\n",
    "    axs[0].minorticks_on()\n",
    "    axs[0].grid(which='major', linestyle='-', linewidth='0.5')\n",
    "    axs[0].grid(which='minor', linestyle=':', linewidth='0.5')\n",
    "    axs[0].set_xlabel('V_new')\n",
    "    axs[0].set_ylabel('Q_V')\n",
    "    axs[0].set_title('interpolated Q and V (Step A)')\n",
    "\n",
    "    axs[1].plot(V_new, A_t_V)\n",
    "    axs[1].minorticks_on()\n",
    "    axs[1].grid(which='major', linestyle='-', linewidth='0.5')\n",
    "    axs[1].grid(which='minor', linestyle=':', linewidth='0.5')\n",
    "    axs[1].set_xlabel('V_new')\n",
    "    axs[1].set_ylabel('t_V')\n",
    "    axs[1].set_title('interpolated t and V (Step A)')\n",
    "\n",
    "    index_B = [(df_f.step_type_name[i] in ['cc_discharge', 'cv_hold_discharge']) * (df_f.cycle_index[i] == n + 1) for i in range(df_f.shape[0])]\n",
    "    t0 = min(df_f.test_time[index_B])\n",
    "    Q0 = max(df_f.capacity[index_B])\n",
    "    \n",
    "    V = df_f.voltage[index_B]\n",
    "    Q = Q0 - df_f.capacity[index_B]\n",
    "    I = df_f.current[index_B]\n",
    "    t = df_f.test_time[index_B]\n",
    "    V_new = np.linspace(3.0, 4.4, 1000)\n",
    "    B_Q_V = np.interp(V_new, V[::-1], Q[::-1])\n",
    "    V_new = V_new[::-1]\n",
    "    B_Q_V = B_Q_V[::-1]\n",
    "    t_new = np.linspace(min(t), max(t), 1000) - t0\n",
    "    B_V_t = np.interp(t_new, t - t0, V)\n",
    "\n",
    "    B_Q_V_all[ind, :] = B_Q_V\n",
    "    B_V_t_all[ind, :] = B_V_t\n",
    "\n",
    "    axs[2].plot(V_new, B_Q_V)\n",
    "    axs[2].minorticks_on()\n",
    "    axs[2].grid(which='major', linestyle='-', linewidth='0.5')\n",
    "    axs[2].grid(which='minor', linestyle=':', linewidth='0.5')\n",
    "    axs[2].set_xlabel('V_new')\n",
    "    axs[2].set_ylabel('Q_V')\n",
    "    axs[2].set_title('interpolated Q and V (Step B)')\n",
    "\n",
    "    axs[3].plot(t_new, B_V_t)\n",
    "    axs[3].minorticks_on()\n",
    "    axs[3].grid(which='major', linestyle='-', linewidth='0.5')\n",
    "    axs[3].grid(which='minor', linestyle=':', linewidth='0.5')\n",
    "    axs[3].set_xlabel('t_new')\n",
    "    axs[3].set_ylabel('V_t')\n",
    "    axs[3].set_title('interpolated V and t (Step B)')\n",
    "\n",
    "    index_C = [(df_f.step_type_name[i] in ['cc_discharge', 'cv_hold_discharge']) * (df_f.cycle_index[i] == 1) for i in range(df_f.shape[0])]\n",
    "    t0 = min(df_f.test_time[index_C])\n",
    "    Q0 = max(df_f.capacity[index_C])\n",
    "    \n",
    "    V = df_f.voltage[index_C]\n",
    "    Q = Q0 - df_f.capacity[index_C]\n",
    "    I = df_f.current[index_C]\n",
    "    t = df_f.test_time[index_C]\n",
    "    V_new = np.linspace(3.0, 4.4, 1000)\n",
    "    C_Q_V = np.interp(V_new, V[::-1], Q[::-1])\n",
    "    V_new = V_new[::-1]\n",
    "    C_Q_V = C_Q_V[::-1]\n",
    "    t_new = np.linspace(min(t), max(t), 1000) - t0\n",
    "    C_V_t = np.interp(t_new, t - t0, V)\n",
    "\n",
    "    C_Q_V_all[ind, :] = C_Q_V\n",
    "    C_V_t_all[ind, :] = C_V_t\n",
    "\n",
    "    axs[4].plot(V_new, C_Q_V)\n",
    "    axs[4].minorticks_on()\n",
    "    axs[4].grid(which='major', linestyle='-', linewidth='0.5')\n",
    "    axs[4].grid(which='minor', linestyle=':', linewidth='0.5')\n",
    "    axs[4].set_xlabel('V_new')\n",
    "    axs[4].set_ylabel('Q_V')\n",
    "    axs[4].set_title('interpolated Q and V (Step C)')\n",
    "\n",
    "    axs[5].plot(t_new, C_V_t)\n",
    "    axs[5].minorticks_on()\n",
    "    axs[5].grid(which='major', linestyle='-', linewidth='0.5')\n",
    "    axs[5].grid(which='minor', linestyle=':', linewidth='0.5')\n",
    "    axs[5].set_xlabel('t_new')\n",
    "    axs[5].set_ylabel('V_t')\n",
    "    axs[5].set_title('interpolated V and t (Step C)')\n",
    "    \n",
    "    plt.show()"
   ]
  },
  {
   "cell_type": "code",
   "execution_count": 8,
   "id": "a7b3c356",
   "metadata": {},
   "outputs": [],
   "source": [
    "import pandas as pd\n",
    "\n",
    "protocol = pd.read_excel(os.getcwd() + \"/tsfresh_feature_extraction/protocol_label.xlsx\", header=0)\n",
    "protocol = protocol.iloc[:,1:]\n",
    "y = pd.DataFrame({'y': y})\n",
    "\n",
    "df_A_Q_V_all = pd.concat([pd.DataFrame(A_Q_V_all), y, protocol], axis=1)\n",
    "df_A_t_V_all = pd.concat([pd.DataFrame(A_t_V_all), y, protocol], axis=1)\n",
    "df_B_Q_V_all = pd.concat([pd.DataFrame(B_Q_V_all), y, protocol], axis=1)\n",
    "df_B_V_t_all = pd.concat([pd.DataFrame(B_V_t_all), y, protocol], axis=1)\n",
    "df_C_Q_V_all = pd.concat([pd.DataFrame(C_Q_V_all), y, protocol], axis=1)\n",
    "df_C_V_t_all = pd.concat([pd.DataFrame(C_V_t_all), y, protocol], axis=1)\n",
    "\n",
    "if not os.path.exists(os.getcwd() + \"/data_formation\"):\n",
    "    os.mkdir(os.getcwd() + \"/data_formation\")\n",
    "\n",
    "df_A_Q_V_all.to_excel(\"data_formation/A_Q_V_all.xlsx\")\n",
    "df_A_t_V_all.to_excel(\"data_formation/A_t_V_all.xlsx\")\n",
    "df_B_Q_V_all.to_excel(\"data_formation/B_Q_V_all.xlsx\")\n",
    "df_B_V_t_all.to_excel(\"data_formation/B_V_t_all.xlsx\")\n",
    "df_C_Q_V_all.to_excel(\"data_formation/C_Q_V_all.xlsx\")\n",
    "df_C_V_t_all.to_excel(\"data_formation/C_V_t_all.xlsx\")"
   ]
  }
 ],
 "metadata": {
  "kernelspec": {
   "display_name": "HDRegAnalytics",
   "language": "python",
   "name": "python3"
  },
  "language_info": {
   "codemirror_mode": {
    "name": "ipython",
    "version": 3
   },
   "file_extension": ".py",
   "mimetype": "text/x-python",
   "name": "python",
   "nbconvert_exporter": "python",
   "pygments_lexer": "ipython3",
   "version": "3.10.0"
  }
 },
 "nbformat": 4,
 "nbformat_minor": 5
}
